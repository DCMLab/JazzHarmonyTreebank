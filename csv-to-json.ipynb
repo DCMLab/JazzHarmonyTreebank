{
 "cells": [
  {
   "cell_type": "code",
   "execution_count": 1,
   "metadata": {},
   "outputs": [
    {
     "data": {
      "text/plain": [
       "'/Users/harasim/Documents/repos/iRealPro'"
      ]
     },
     "execution_count": 1,
     "metadata": {},
     "output_type": "execute_result"
    }
   ],
   "source": [
    "import pandas as pd\n",
    "import random\n",
    "import os\n",
    "os.getcwd()"
   ]
  },
  {
   "cell_type": "markdown",
   "metadata": {},
   "source": [
    "# Read data into a list of dictionaries"
   ]
  },
  {
   "cell_type": "code",
   "execution_count": 2,
   "metadata": {},
   "outputs": [],
   "source": [
    "data = open('LausanneJazzTreebank/data.csv', 'r').readlines()\n",
    "\n",
    "tuneliness = []\n",
    "tunelines = []\n",
    "for line in map(lambda line: line.strip(';\\n').split(';'), data):\n",
    "    if line[0] == 'NEWTUNE':\n",
    "        tuneliness.append(tunelines)\n",
    "        tunelines = []\n",
    "    else:\n",
    "        tunelines.append(line)\n",
    "tuneliness.append(tunelines)\n",
    "        \n",
    "def lines_to_dict(tunelines):\n",
    "    d = {}\n",
    "    for line in tunelines:\n",
    "        if line[1:] == []:\n",
    "            continue\n",
    "        else:\n",
    "            key = line[0][:-1]\n",
    "            if key in ['title', 'tree', 'approved']:\n",
    "                assert len(line) == 2\n",
    "                d[key] = line[1]\n",
    "            elif key == 'turnaround':\n",
    "                assert len(line) == 2\n",
    "                if line[1] in ['?','b']:\n",
    "                    continue\n",
    "                else:\n",
    "                    d[key] = int(line[1])\n",
    "            else:\n",
    "                d[key] = ' '.join(line[1:])\n",
    "    return d\n",
    "        \n",
    "tunes = list(map(lines_to_dict, tuneliness[1:]))"
   ]
  },
  {
   "cell_type": "code",
   "execution_count": 3,
   "metadata": {},
   "outputs": [
    {
     "data": {
      "text/plain": [
       "[{'title': 'Sweeping Up',\n",
       "  'measures': '1 2 3 4 5 6 7',\n",
       "  'beats': '1 1 1 1 1 1 1',\n",
       "  'chords': 'D7 G^7 F#m7 Bm Em7 Bm Am7'},\n",
       " {'title': 'Red Clay',\n",
       "  'measures': '1 2 3 3 4 4 5 6 6 7 8 8',\n",
       "  'beats': '1 1 1 3 1 3 1 1 3 1 1 3',\n",
       "  'chords': 'Cm7 Bbm7 Dbsus Ebsus Fsus Gsus Cm7 Bbm7 Eb7 Ab^7 D%7 G7',\n",
       "  'turnaround': -1,\n",
       "  'tree': '[.Cm7 [.G7 [.Gsus Cm7 [.Gsus [.Fsus [.Ebsus Bbm7 [.Ebsus Dbsus Ebsus ] ] Fsus ] Gsus ] ] [.G7 Cm7 [.G7 [.Ab^7 [.Eb7 Bbm7 Eb7 ] Ab^7 ] [.G7 D%7 G7 ] ] ] ] Cm7 ]'},\n",
       " {'title': \"Bessie's Blues\",\n",
       "  'measures': '1 2 3 4 5 6 7 8 9 10 11 12',\n",
       "  'beats': '1 1 1 1 1 1 1 1 1 1 1 1',\n",
       "  'chords': 'Eb7 Ab7 Eb7 Eb7 Ab7 Ab7 Eb7 Eb7 Bb7 Ab7 Eb7 Bb7'}]"
      ]
     },
     "execution_count": 3,
     "metadata": {},
     "output_type": "execute_result"
    }
   ],
   "source": [
    "tunes[:3]"
   ]
  },
  {
   "cell_type": "markdown",
   "metadata": {},
   "source": [
    "# Read metadata into a dataframe"
   ]
  },
  {
   "cell_type": "code",
   "execution_count": 4,
   "metadata": {},
   "outputs": [],
   "source": [
    "metadata = pd.read_csv('LausanneJazzTreebank/metadata.csv', sep=';')\n",
    "metadata = metadata[metadata['title'] != 'Ruby, My Dear']\n",
    "\n",
    "assert all([tune['title'] for tune in tunes] == metadata['title'])"
   ]
  },
  {
   "cell_type": "code",
   "execution_count": 5,
   "metadata": {},
   "outputs": [
    {
     "data": {
      "text/html": [
       "<div>\n",
       "<style scoped>\n",
       "    .dataframe tbody tr th:only-of-type {\n",
       "        vertical-align: middle;\n",
       "    }\n",
       "\n",
       "    .dataframe tbody tr th {\n",
       "        vertical-align: top;\n",
       "    }\n",
       "\n",
       "    .dataframe thead th {\n",
       "        text-align: right;\n",
       "    }\n",
       "</style>\n",
       "<table border=\"1\" class=\"dataframe\">\n",
       "  <thead>\n",
       "    <tr style=\"text-align: right;\">\n",
       "      <th></th>\n",
       "      <th>title</th>\n",
       "      <th>composers</th>\n",
       "      <th>year</th>\n",
       "      <th>meter</th>\n",
       "      <th>key</th>\n",
       "      <th>length</th>\n",
       "    </tr>\n",
       "  </thead>\n",
       "  <tbody>\n",
       "    <tr>\n",
       "      <th>0</th>\n",
       "      <td>Sweeping Up</td>\n",
       "      <td>Swallow, Steve</td>\n",
       "      <td>1975</td>\n",
       "      <td>3/4</td>\n",
       "      <td>G</td>\n",
       "      <td>7</td>\n",
       "    </tr>\n",
       "    <tr>\n",
       "      <th>1</th>\n",
       "      <td>Red Clay</td>\n",
       "      <td>Hubbard, Freddie</td>\n",
       "      <td>1970</td>\n",
       "      <td>4/4</td>\n",
       "      <td>c</td>\n",
       "      <td>11</td>\n",
       "    </tr>\n",
       "    <tr>\n",
       "      <th>2</th>\n",
       "      <td>Bessie's Blues</td>\n",
       "      <td>Coltrane, John</td>\n",
       "      <td>1964</td>\n",
       "      <td>4/4</td>\n",
       "      <td>E-</td>\n",
       "      <td>12</td>\n",
       "    </tr>\n",
       "  </tbody>\n",
       "</table>\n",
       "</div>"
      ],
      "text/plain": [
       "            title         composers  year meter key  length\n",
       "0     Sweeping Up    Swallow, Steve  1975   3/4   G       7\n",
       "1        Red Clay  Hubbard, Freddie  1970   4/4   c      11\n",
       "2  Bessie's Blues    Coltrane, John  1964   4/4  E-      12"
      ]
     },
     "execution_count": 5,
     "metadata": {},
     "output_type": "execute_result"
    }
   ],
   "source": [
    "metadata.head(3)"
   ]
  },
  {
   "cell_type": "markdown",
   "metadata": {},
   "source": [
    "# Insert metadata into tunes (mutates tunes)"
   ]
  },
  {
   "cell_type": "code",
   "execution_count": 6,
   "metadata": {
    "scrolled": true
   },
   "outputs": [],
   "source": [
    "def insert_metadata(tunedict, metarow):\n",
    "    assert tunedict['title'] == metarow['title']\n",
    "    for feature in ['composers', 'year', 'meter', 'key']:\n",
    "        tunedict[feature] = metarow[feature]\n",
    "    \n",
    "for (tune, (i, meta)) in zip(tunes, list(metadata.iterrows())):\n",
    "    insert_metadata(tune, meta)"
   ]
  },
  {
   "cell_type": "code",
   "execution_count": 7,
   "metadata": {},
   "outputs": [
    {
     "data": {
      "text/plain": [
       "[{'title': 'Sweeping Up',\n",
       "  'measures': '1 2 3 4 5 6 7',\n",
       "  'beats': '1 1 1 1 1 1 1',\n",
       "  'chords': 'D7 G^7 F#m7 Bm Em7 Bm Am7',\n",
       "  'composers': 'Swallow, Steve',\n",
       "  'year': 1975,\n",
       "  'meter': '3/4',\n",
       "  'key': 'G'},\n",
       " {'title': 'Red Clay',\n",
       "  'measures': '1 2 3 3 4 4 5 6 6 7 8 8',\n",
       "  'beats': '1 1 1 3 1 3 1 1 3 1 1 3',\n",
       "  'chords': 'Cm7 Bbm7 Dbsus Ebsus Fsus Gsus Cm7 Bbm7 Eb7 Ab^7 D%7 G7',\n",
       "  'turnaround': -1,\n",
       "  'tree': '[.Cm7 [.G7 [.Gsus Cm7 [.Gsus [.Fsus [.Ebsus Bbm7 [.Ebsus Dbsus Ebsus ] ] Fsus ] Gsus ] ] [.G7 Cm7 [.G7 [.Ab^7 [.Eb7 Bbm7 Eb7 ] Ab^7 ] [.G7 D%7 G7 ] ] ] ] Cm7 ]',\n",
       "  'composers': 'Hubbard, Freddie',\n",
       "  'year': 1970,\n",
       "  'meter': '4/4',\n",
       "  'key': 'c'},\n",
       " {'title': \"Bessie's Blues\",\n",
       "  'measures': '1 2 3 4 5 6 7 8 9 10 11 12',\n",
       "  'beats': '1 1 1 1 1 1 1 1 1 1 1 1',\n",
       "  'chords': 'Eb7 Ab7 Eb7 Eb7 Ab7 Ab7 Eb7 Eb7 Bb7 Ab7 Eb7 Bb7',\n",
       "  'composers': 'Coltrane, John',\n",
       "  'year': 1964,\n",
       "  'meter': '4/4',\n",
       "  'key': 'E-'}]"
      ]
     },
     "execution_count": 7,
     "metadata": {},
     "output_type": "execute_result"
    }
   ],
   "source": [
    "tunes[:3]"
   ]
  },
  {
   "cell_type": "code",
   "execution_count": 8,
   "metadata": {},
   "outputs": [],
   "source": [
    "from lark import Lark\n",
    "\n",
    "qtree_parser = Lark(r\"\"\"\n",
    "    innernode: \"[.\" LABEL \" \"* (innernode | leaf)+ \"]\" \" \"*\n",
    "    LABEL: /[^ \\[\\]]+/\n",
    "    leaf: LABEL \" \"*\n",
    "\n",
    "    \"\"\", start='innernode')\n",
    "\n",
    "def qtree_to_dict(qtree_str):\n",
    "    def larktree_to_dict(tree):\n",
    "        label = tree.children[0]\n",
    "        assert label.type == 'LABEL'\n",
    "        if tree.data == 'innernode':\n",
    "            children = [larktree_to_dict(child) for child in tree.children[1:]]\n",
    "        else:\n",
    "            assert tree.data == 'leaf'\n",
    "            children = []\n",
    "        return {'label': label.value, 'children': children}\n",
    "    tree = qtree_parser.parse(qtree_str)\n",
    "    return larktree_to_dict(tree)\n",
    "\n",
    "def dict_to_qtree(d):\n",
    "    if 'children' in d and d['children'] != []:\n",
    "        return \"[.\" + d['label'] + \" \" + \"\".join([dict_to_qtree(c) for c in d['children']]) + \"] \"\n",
    "    else:\n",
    "        return d['label'] + \" \""
   ]
  },
  {
   "cell_type": "code",
   "execution_count": 9,
   "metadata": {},
   "outputs": [],
   "source": [
    "text = '[.Cm7 [.G7 [.Gsus Cm7 [.Gsus [.Fsus [.Ebsus Bbm7 [.Ebsus Dbsus Ebsus ] ] Fsus ] Gsus ] ] [.G7 Cm7 [.G7 [.Ab^7 [.Eb7 Bbm7 Eb7 ] Ab^7 ] [.G7 D%7 G7 ] ] ] ] Cm7 ] '\n",
    "assert dict_to_qtree(qtree_to_dict(text)) == text"
   ]
  },
  {
   "cell_type": "code",
   "execution_count": 10,
   "metadata": {},
   "outputs": [],
   "source": [
    "for tune in tunes:\n",
    "    if 'tree' in tune:\n",
    "        tune['tree'] = tune['tree'].strip() + \" \"\n",
    "\n",
    "for tune in tunes:\n",
    "    if 'tree' in tune:\n",
    "        assert dict_to_qtree(qtree_to_dict(tune['tree'])) == tune['tree']\n",
    "\n",
    "# for tune in tunes:\n",
    "#     if 'tree' in tune:\n",
    "#         tune['tree'] = qtree_to_dict(tune['tree'])"
   ]
  },
  {
   "cell_type": "code",
   "execution_count": 11,
   "metadata": {
    "scrolled": false
   },
   "outputs": [],
   "source": [
    "import json\n",
    "\n",
    "with open(\"iRealProQTree.json\", 'w') as f:\n",
    "    json.dump(tunes, f, indent=2)"
   ]
  },
  {
   "cell_type": "code",
   "execution_count": 12,
   "metadata": {},
   "outputs": [],
   "source": [
    "import tempfile\n",
    "from wand.image import Image\n",
    "\n",
    "def latex_escape(string):\n",
    "    return string\\\n",
    "    .replace('\\\\', '\\\\textbackslash')\\\n",
    "    .replace('&', '\\&')\\\n",
    "    .replace('%', '\\%')\\\n",
    "    .replace('$', '\\$')\\\n",
    "    .replace('#', '\\#')\\\n",
    "    .replace('_', '\\_')\\\n",
    "    .replace('~', '\\\\textasciitilde')\\\n",
    "    .replace('^', '$^\\\\triangle$')\n",
    "\n",
    "def plotQTree(qtree_str, resolution=300, print_log=False):\n",
    "    latexdoc = '''\n",
    "        \\\\documentclass{standalone}\n",
    "        \\\\usepackage{tikz}\n",
    "        \\\\usepackage{tikz-qtree}\n",
    "        \\\\usepackage{amsmath}\n",
    "        \\\\begin{document}\n",
    "        \\\\begin{tikzpicture}\n",
    "            \\\\Tree %s\n",
    "        \\\\end{tikzpicture}\n",
    "        \\\\end{document}\n",
    "        '''%(qtree_str)\n",
    "    with tempfile.TemporaryDirectory() as d:\n",
    "        texfile = d + \"/main.tex\"\n",
    "        with open(texfile, \"w\") as f:\n",
    "            f.write(latexdoc)\n",
    "        log = os.popen('pdflatex -output-directory=' + d + \" \" + texfile).read()\n",
    "        if print_log:\n",
    "            print(log)\n",
    "        img = Image(filename = d + \"/main.pdf\", resolution=resolution)\n",
    "    return img"
   ]
  },
  {
   "cell_type": "code",
   "execution_count": 30,
   "metadata": {
    "scrolled": false
   },
   "outputs": [
    {
     "data": {
      "image/png": "[encoded data removed]",
      "text/plain": [
       "<wand.image.Image: 92108cd 'PDF' (2737x1052)>"
      ]
     },
     "execution_count": 30,
     "metadata": {},
     "output_type": "execute_result"
    }
   ],
   "source": [
    "text = \"\"\"\n",
    "[.Dm7 [.Dm7 [.Dm7 Dm7 [.Dm7 Am7 Dm7 ] ] [.Dm7 Eb7 Dm7 ] ] [.Dm7 [.Dm7 [.Eb7 [.Am7 [.Gm7 [.D7 [.Am7 Am7 Am7 ] D7 ] Gm7 ] Am7 ] [.Eb7 Bbm7 Eb7 ] ] [.Dm7 Dm7 [.F^7 Em7 F^7 ] ] ] [.Dm7 [.A7 [.Bb7 [.Fm7 F#m7 Fm7 ] Bb7 ] [.A7 Em7 A7 ] ] [.Dm7 Dm7 [.Dm7 Am7 Dm7 ] ] ] ] ]\n",
    "\"\"\"\n",
    "plotQTree(latex_escape(text), resolution=300)"
   ]
  },
  {
   "cell_type": "code",
   "execution_count": null,
   "metadata": {},
   "outputs": [],
   "source": []
  }
 ],
 "metadata": {
  "kernelspec": {
   "display_name": "Python 3",
   "language": "python",
   "name": "python3"
  },
  "language_info": {
   "codemirror_mode": {
    "name": "ipython",
    "version": 3
   },
   "file_extension": ".py",
   "mimetype": "text/x-python",
   "name": "python",
   "nbconvert_exporter": "python",
   "pygments_lexer": "ipython3",
   "version": "3.7.3"
  }
 },
 "nbformat": 4,
 "nbformat_minor": 2
}
